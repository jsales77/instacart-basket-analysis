{
 "cells": [
  {
   "cell_type": "markdown",
   "id": "5139b3fc",
   "metadata": {},
   "source": [
    "## **Task 4.10 - Part 1**"
   ]
  },
  {
   "cell_type": "markdown",
   "id": "cc9b46fd",
   "metadata": {},
   "source": [
    "# Table of Contents\n",
    "1. Importing Libraries and Data\n",
    "2. Security\n",
    "3. Regional Data\n",
    "4. Spending Habits Between Regions\n",
    "5. Removing Low-Activity Customers\n",
    "6. Profile Variables\n",
    "7. Visualizations\n",
    "8. Comparing Profiles with Regions and Departments\n",
    "9. Exporting Notebook"
   ]
  },
  {
   "cell_type": "markdown",
   "id": "b5412b16",
   "metadata": {},
   "source": [
    "## **1. Importing Libraries and Data**"
   ]
  },
  {
   "cell_type": "code",
   "execution_count": 1,
   "id": "a0fbc76d",
   "metadata": {},
   "outputs": [],
   "source": [
    "#importing libraries\n",
    "\n",
    "import pandas as pd\n",
    "import numpy as np\n",
    "import os\n",
    "import matplotlib.pyplot as plt\n",
    "import seaborn as sns\n",
    "import scipy"
   ]
  },
  {
   "cell_type": "code",
   "execution_count": 2,
   "id": "56f93d24",
   "metadata": {},
   "outputs": [],
   "source": [
    "#importing data\n",
    "\n",
    "path = r'C:\\users\\jonsa\\documents\\Instacart Basket Analysis'"
   ]
  },
  {
   "cell_type": "code",
   "execution_count": 3,
   "id": "ead75e08",
   "metadata": {},
   "outputs": [],
   "source": [
    "df_merge = pd.read_pickle(os.path.join(path, 'Data', 'Prepared Data', 'orders_products_customers_merged.pkl'))"
   ]
  },
  {
   "cell_type": "code",
   "execution_count": 4,
   "id": "9284c63d",
   "metadata": {},
   "outputs": [
    {
     "data": {
      "text/plain": [
       "(32404859, 34)"
      ]
     },
     "execution_count": 4,
     "metadata": {},
     "output_type": "execute_result"
    }
   ],
   "source": [
    "#Checking shape of the dataframe\n",
    "\n",
    "df_merge.shape"
   ]
  },
  {
   "cell_type": "code",
   "execution_count": 5,
   "id": "8cf87446",
   "metadata": {},
   "outputs": [
    {
     "data": {
      "text/html": [
       "<div>\n",
       "<style scoped>\n",
       "    .dataframe tbody tr th:only-of-type {\n",
       "        vertical-align: middle;\n",
       "    }\n",
       "\n",
       "    .dataframe tbody tr th {\n",
       "        vertical-align: top;\n",
       "    }\n",
       "\n",
       "    .dataframe thead th {\n",
       "        text-align: right;\n",
       "    }\n",
       "</style>\n",
       "<table border=\"1\" class=\"dataframe\">\n",
       "  <thead>\n",
       "    <tr style=\"text-align: right;\">\n",
       "      <th></th>\n",
       "      <th>order_id</th>\n",
       "      <th>user_id</th>\n",
       "      <th>order_number</th>\n",
       "      <th>orders_day_of_week</th>\n",
       "      <th>order_hour_of_day</th>\n",
       "      <th>days_since_previous_order</th>\n",
       "      <th>only_order</th>\n",
       "      <th>product_id</th>\n",
       "      <th>add_to_cart_order</th>\n",
       "      <th>reordered</th>\n",
       "      <th>...</th>\n",
       "      <th>frequency_flag</th>\n",
       "      <th>first_name</th>\n",
       "      <th>last_name</th>\n",
       "      <th>gender</th>\n",
       "      <th>state</th>\n",
       "      <th>age</th>\n",
       "      <th>date_joined</th>\n",
       "      <th>num_of_dependants</th>\n",
       "      <th>marriage_status</th>\n",
       "      <th>income</th>\n",
       "    </tr>\n",
       "  </thead>\n",
       "  <tbody>\n",
       "    <tr>\n",
       "      <th>0</th>\n",
       "      <td>2539329</td>\n",
       "      <td>1</td>\n",
       "      <td>1</td>\n",
       "      <td>2</td>\n",
       "      <td>8</td>\n",
       "      <td>NaN</td>\n",
       "      <td>True</td>\n",
       "      <td>196</td>\n",
       "      <td>1</td>\n",
       "      <td>0</td>\n",
       "      <td>...</td>\n",
       "      <td>Non-frequent customer</td>\n",
       "      <td>Linda</td>\n",
       "      <td>Nguyen</td>\n",
       "      <td>Female</td>\n",
       "      <td>Alabama</td>\n",
       "      <td>31</td>\n",
       "      <td>2/17/2019</td>\n",
       "      <td>3</td>\n",
       "      <td>married</td>\n",
       "      <td>40423</td>\n",
       "    </tr>\n",
       "    <tr>\n",
       "      <th>1</th>\n",
       "      <td>2398795</td>\n",
       "      <td>1</td>\n",
       "      <td>2</td>\n",
       "      <td>3</td>\n",
       "      <td>7</td>\n",
       "      <td>15.0</td>\n",
       "      <td>False</td>\n",
       "      <td>196</td>\n",
       "      <td>1</td>\n",
       "      <td>1</td>\n",
       "      <td>...</td>\n",
       "      <td>Non-frequent customer</td>\n",
       "      <td>Linda</td>\n",
       "      <td>Nguyen</td>\n",
       "      <td>Female</td>\n",
       "      <td>Alabama</td>\n",
       "      <td>31</td>\n",
       "      <td>2/17/2019</td>\n",
       "      <td>3</td>\n",
       "      <td>married</td>\n",
       "      <td>40423</td>\n",
       "    </tr>\n",
       "    <tr>\n",
       "      <th>2</th>\n",
       "      <td>473747</td>\n",
       "      <td>1</td>\n",
       "      <td>3</td>\n",
       "      <td>3</td>\n",
       "      <td>12</td>\n",
       "      <td>21.0</td>\n",
       "      <td>False</td>\n",
       "      <td>196</td>\n",
       "      <td>1</td>\n",
       "      <td>1</td>\n",
       "      <td>...</td>\n",
       "      <td>Non-frequent customer</td>\n",
       "      <td>Linda</td>\n",
       "      <td>Nguyen</td>\n",
       "      <td>Female</td>\n",
       "      <td>Alabama</td>\n",
       "      <td>31</td>\n",
       "      <td>2/17/2019</td>\n",
       "      <td>3</td>\n",
       "      <td>married</td>\n",
       "      <td>40423</td>\n",
       "    </tr>\n",
       "    <tr>\n",
       "      <th>3</th>\n",
       "      <td>2254736</td>\n",
       "      <td>1</td>\n",
       "      <td>4</td>\n",
       "      <td>4</td>\n",
       "      <td>7</td>\n",
       "      <td>29.0</td>\n",
       "      <td>False</td>\n",
       "      <td>196</td>\n",
       "      <td>1</td>\n",
       "      <td>1</td>\n",
       "      <td>...</td>\n",
       "      <td>Non-frequent customer</td>\n",
       "      <td>Linda</td>\n",
       "      <td>Nguyen</td>\n",
       "      <td>Female</td>\n",
       "      <td>Alabama</td>\n",
       "      <td>31</td>\n",
       "      <td>2/17/2019</td>\n",
       "      <td>3</td>\n",
       "      <td>married</td>\n",
       "      <td>40423</td>\n",
       "    </tr>\n",
       "    <tr>\n",
       "      <th>4</th>\n",
       "      <td>431534</td>\n",
       "      <td>1</td>\n",
       "      <td>5</td>\n",
       "      <td>4</td>\n",
       "      <td>15</td>\n",
       "      <td>28.0</td>\n",
       "      <td>False</td>\n",
       "      <td>196</td>\n",
       "      <td>1</td>\n",
       "      <td>1</td>\n",
       "      <td>...</td>\n",
       "      <td>Non-frequent customer</td>\n",
       "      <td>Linda</td>\n",
       "      <td>Nguyen</td>\n",
       "      <td>Female</td>\n",
       "      <td>Alabama</td>\n",
       "      <td>31</td>\n",
       "      <td>2/17/2019</td>\n",
       "      <td>3</td>\n",
       "      <td>married</td>\n",
       "      <td>40423</td>\n",
       "    </tr>\n",
       "  </tbody>\n",
       "</table>\n",
       "<p>5 rows × 34 columns</p>\n",
       "</div>"
      ],
      "text/plain": [
       "   order_id user_id  order_number  orders_day_of_week  order_hour_of_day  \\\n",
       "0   2539329       1             1                   2                  8   \n",
       "1   2398795       1             2                   3                  7   \n",
       "2    473747       1             3                   3                 12   \n",
       "3   2254736       1             4                   4                  7   \n",
       "4    431534       1             5                   4                 15   \n",
       "\n",
       "   days_since_previous_order  only_order  product_id  add_to_cart_order  \\\n",
       "0                        NaN        True         196                  1   \n",
       "1                       15.0       False         196                  1   \n",
       "2                       21.0       False         196                  1   \n",
       "3                       29.0       False         196                  1   \n",
       "4                       28.0       False         196                  1   \n",
       "\n",
       "   reordered  ...         frequency_flag first_name  last_name  gender  \\\n",
       "0          0  ...  Non-frequent customer      Linda     Nguyen  Female   \n",
       "1          1  ...  Non-frequent customer      Linda     Nguyen  Female   \n",
       "2          1  ...  Non-frequent customer      Linda     Nguyen  Female   \n",
       "3          1  ...  Non-frequent customer      Linda     Nguyen  Female   \n",
       "4          1  ...  Non-frequent customer      Linda     Nguyen  Female   \n",
       "\n",
       "     state age date_joined num_of_dependants marriage_status  income  \n",
       "0  Alabama  31   2/17/2019                 3         married   40423  \n",
       "1  Alabama  31   2/17/2019                 3         married   40423  \n",
       "2  Alabama  31   2/17/2019                 3         married   40423  \n",
       "3  Alabama  31   2/17/2019                 3         married   40423  \n",
       "4  Alabama  31   2/17/2019                 3         married   40423  \n",
       "\n",
       "[5 rows x 34 columns]"
      ]
     },
     "execution_count": 5,
     "metadata": {},
     "output_type": "execute_result"
    }
   ],
   "source": [
    "#Checking column names and information in first 5 rows\n",
    "\n",
    "df_merge.head()"
   ]
  },
  {
   "cell_type": "markdown",
   "id": "87931f7e",
   "metadata": {},
   "source": [
    "## **2. Security**"
   ]
  },
  {
   "cell_type": "code",
   "execution_count": 7,
   "id": "1aaff659",
   "metadata": {
    "scrolled": false
   },
   "outputs": [
    {
     "data": {
      "text/plain": [
       "Index(['order_id', 'user_id', 'order_number', 'orders_day_of_week',\n",
       "       'order_hour_of_day', 'days_since_previous_order', 'only_order',\n",
       "       'product_id', 'add_to_cart_order', 'reordered', '_merge',\n",
       "       'product_name', 'aisle_id', 'department_id', 'prices',\n",
       "       'price_range_loc', 'busiest_day', 'busiest_days',\n",
       "       'busiest_period_of_day', 'max_order', 'loyalty_flag', 'spending',\n",
       "       'spending_flag', 'order_frequency', 'frequency_flag', 'first_name',\n",
       "       'last_name', 'gender', 'state', 'age', 'date_joined',\n",
       "       'num_of_dependants', 'marriage_status', 'income'],\n",
       "      dtype='object')"
      ]
     },
     "execution_count": 7,
     "metadata": {},
     "output_type": "execute_result"
    }
   ],
   "source": [
    "#Checking column names\n",
    "\n",
    "df_merge.columns"
   ]
  },
  {
   "cell_type": "code",
   "execution_count": null,
   "id": "bed7526d",
   "metadata": {},
   "outputs": [],
   "source": [
    "df_merge.rename(['num_of_dependants'], ['num_of_dependents'])"
   ]
  },
  {
   "cell_type": "markdown",
   "id": "7f26c986",
   "metadata": {},
   "source": [
    "Our dataframe has two columns that identifying information: first_name, last_name. We will drop these columns from our dataframe to ensure privacy"
   ]
  },
  {
   "cell_type": "code",
   "execution_count": 11,
   "id": "cdddb4c7",
   "metadata": {},
   "outputs": [],
   "source": [
    "#Dropping columns first_name, last_name\n",
    "\n",
    "df_merge_secure = df_merge.drop(columns = ['first_name', 'last_name'])"
   ]
  },
  {
   "cell_type": "code",
   "execution_count": 12,
   "id": "de3a98d0",
   "metadata": {},
   "outputs": [
    {
     "data": {
      "text/html": [
       "<div>\n",
       "<style scoped>\n",
       "    .dataframe tbody tr th:only-of-type {\n",
       "        vertical-align: middle;\n",
       "    }\n",
       "\n",
       "    .dataframe tbody tr th {\n",
       "        vertical-align: top;\n",
       "    }\n",
       "\n",
       "    .dataframe thead th {\n",
       "        text-align: right;\n",
       "    }\n",
       "</style>\n",
       "<table border=\"1\" class=\"dataframe\">\n",
       "  <thead>\n",
       "    <tr style=\"text-align: right;\">\n",
       "      <th></th>\n",
       "      <th>order_id</th>\n",
       "      <th>user_id</th>\n",
       "      <th>order_number</th>\n",
       "      <th>orders_day_of_week</th>\n",
       "      <th>order_hour_of_day</th>\n",
       "      <th>days_since_previous_order</th>\n",
       "      <th>only_order</th>\n",
       "      <th>product_id</th>\n",
       "      <th>add_to_cart_order</th>\n",
       "      <th>reordered</th>\n",
       "      <th>...</th>\n",
       "      <th>spending_flag</th>\n",
       "      <th>order_frequency</th>\n",
       "      <th>frequency_flag</th>\n",
       "      <th>gender</th>\n",
       "      <th>state</th>\n",
       "      <th>age</th>\n",
       "      <th>date_joined</th>\n",
       "      <th>num_of_dependants</th>\n",
       "      <th>marriage_status</th>\n",
       "      <th>income</th>\n",
       "    </tr>\n",
       "  </thead>\n",
       "  <tbody>\n",
       "    <tr>\n",
       "      <th>0</th>\n",
       "      <td>2539329</td>\n",
       "      <td>1</td>\n",
       "      <td>1</td>\n",
       "      <td>2</td>\n",
       "      <td>8</td>\n",
       "      <td>NaN</td>\n",
       "      <td>True</td>\n",
       "      <td>196</td>\n",
       "      <td>1</td>\n",
       "      <td>0</td>\n",
       "      <td>...</td>\n",
       "      <td>Low spender</td>\n",
       "      <td>20.5</td>\n",
       "      <td>Non-frequent customer</td>\n",
       "      <td>Female</td>\n",
       "      <td>Alabama</td>\n",
       "      <td>31</td>\n",
       "      <td>2/17/2019</td>\n",
       "      <td>3</td>\n",
       "      <td>married</td>\n",
       "      <td>40423</td>\n",
       "    </tr>\n",
       "  </tbody>\n",
       "</table>\n",
       "<p>1 rows × 32 columns</p>\n",
       "</div>"
      ],
      "text/plain": [
       "   order_id user_id  order_number  orders_day_of_week  order_hour_of_day  \\\n",
       "0   2539329       1             1                   2                  8   \n",
       "\n",
       "   days_since_previous_order  only_order  product_id  add_to_cart_order  \\\n",
       "0                        NaN        True         196                  1   \n",
       "\n",
       "   reordered  ... spending_flag order_frequency         frequency_flag  \\\n",
       "0          0  ...   Low spender            20.5  Non-frequent customer   \n",
       "\n",
       "   gender    state age date_joined num_of_dependants marriage_status  income  \n",
       "0  Female  Alabama  31   2/17/2019                 3         married   40423  \n",
       "\n",
       "[1 rows x 32 columns]"
      ]
     },
     "execution_count": 12,
     "metadata": {},
     "output_type": "execute_result"
    }
   ],
   "source": [
    "#Checking to ensure our columns were dropped correctly\n",
    "\n",
    "df_merge_secure.head(1)"
   ]
  },
  {
   "cell_type": "markdown",
   "id": "6e857271",
   "metadata": {},
   "source": [
    "## **3. Regional Data**"
   ]
  },
  {
   "cell_type": "code",
   "execution_count": 13,
   "id": "ec53abd9",
   "metadata": {},
   "outputs": [
    {
     "data": {
      "text/plain": [
       "Pennsylvania            667082\n",
       "California              659783\n",
       "Rhode Island            656913\n",
       "Georgia                 656389\n",
       "New Mexico              654494\n",
       "Arizona                 653964\n",
       "North Carolina          651900\n",
       "Oklahoma                651739\n",
       "Alaska                  648495\n",
       "Minnesota               647825\n",
       "Massachusetts           646358\n",
       "Wyoming                 644255\n",
       "Virginia                641421\n",
       "Missouri                640732\n",
       "Texas                   640394\n",
       "Colorado                639280\n",
       "Maine                   638583\n",
       "North Dakota            638491\n",
       "Alabama                 638003\n",
       "Kansas                  637538\n",
       "Louisiana               637482\n",
       "Delaware                637024\n",
       "South Carolina          636754\n",
       "Oregon                  636425\n",
       "Arkansas                636144\n",
       "Nevada                  636139\n",
       "New York                635983\n",
       "Montana                 635265\n",
       "South Dakota            633772\n",
       "Illinois                633024\n",
       "Hawaii                  632901\n",
       "Washington              632852\n",
       "Mississippi             632675\n",
       "Kentucky                632490\n",
       "Michigan                630928\n",
       "Florida                 629027\n",
       "Ohio                    628319\n",
       "Wisconsin               628108\n",
       "New Jersey              627692\n",
       "Indiana                 627282\n",
       "Maryland                626579\n",
       "Nebraska                625813\n",
       "Iowa                    625493\n",
       "Connecticut             623022\n",
       "Tennessee               617873\n",
       "New Hampshire           615378\n",
       "District of Columbia    613695\n",
       "West Virginia           612296\n",
       "Utah                    611941\n",
       "Vermont                 611725\n",
       "Idaho                   607119\n",
       "Name: state, dtype: int64"
      ]
     },
     "execution_count": 13,
     "metadata": {},
     "output_type": "execute_result"
    }
   ],
   "source": [
    "#Checking state count\n",
    "\n",
    "df_merge_secure['state'].value_counts(dropna = False)"
   ]
  },
  {
   "cell_type": "markdown",
   "id": "7c07d668",
   "metadata": {},
   "source": [
    "Our data set has 50 states plus District of Columbia included."
   ]
  },
  {
   "cell_type": "code",
   "execution_count": 16,
   "id": "c33a0637",
   "metadata": {},
   "outputs": [],
   "source": [
    "#creating region list\n",
    "\n",
    "result = []\n",
    "\n",
    "for value in df_merge_secure['state']:\n",
    "    if (value == 'Maine') or (value == 'New Hampshire') or (value == 'Vermont') or (value == 'Massachusetts') or (value == 'Rhode Island') or (value == 'Connecticut') or (value == 'New York') or (value == 'Pennsylvania') or (value == 'New Jersey'):\n",
    "        result.append('Northeast')\n",
    "    elif (value == 'Wisconsin') or (value == 'Michigan') or (value == 'Illinois') or (value == 'Indiana') or (value == 'Ohio') or (value == 'North Dakota') or (value == 'South Dakota') or (value == 'Nebraska') or (value == 'Kansas') or (value == 'Minnesota') or (value == 'Iowa') or (value == 'Missouri'):\n",
    "        result.append('Midwest')\n",
    "    elif (value == 'Delaware') or (value == 'Maryland') or (value == 'District of Columbia') or (value == 'Virginia') or (value == 'West Virginia') or (value == 'North Carolina') or (value == 'South Carolina') or (value == 'Georgia') or (value == 'Florida') or (value == 'Kentucky') or (value == 'Tennessee') or (value == 'Mississippi') or (value == 'Alabama') or (value == 'Oklahoma') or (value == 'Texas') or (value == 'Arkansas') or (value == 'Louisiana'):\n",
    "        result.append('South')\n",
    "    elif (value == 'Idaho') or (value == 'Montana') or (value == 'Wyoming') or (value == 'Nevada') or (value == 'Utah') or (value == 'Colorado') or (value == 'Arizona') or (value == 'New Mexico') or (value == 'Alaska') or (value == 'Washington') or (value == 'Oregon') or (value == 'California') or (value == 'Hawaii'):\n",
    "        result.append('West')"
   ]
  },
  {
   "cell_type": "code",
   "execution_count": 18,
   "id": "bce833e1",
   "metadata": {},
   "outputs": [],
   "source": [
    "#adding region column to dataframe\n",
    "\n",
    "df_merge_secure['region'] = result"
   ]
  },
  {
   "cell_type": "code",
   "execution_count": 19,
   "id": "167114b5",
   "metadata": {},
   "outputs": [
    {
     "data": {
      "text/plain": [
       "South        10791885\n",
       "West          8292913\n",
       "Midwest       7597325\n",
       "Northeast     5722736\n",
       "Name: region, dtype: int64"
      ]
     },
     "execution_count": 19,
     "metadata": {},
     "output_type": "execute_result"
    }
   ],
   "source": [
    "#checking counts of each region\n",
    "\n",
    "df_merge_secure['region'].value_counts(dropna = False)"
   ]
  },
  {
   "cell_type": "markdown",
   "id": "2e21375f",
   "metadata": {},
   "source": [
    "## **4. Spending Habits Between Regions**"
   ]
  },
  {
   "cell_type": "code",
   "execution_count": 20,
   "id": "f3bc6e3f",
   "metadata": {},
   "outputs": [],
   "source": [
    "#creating a crosstab to check\n",
    "\n",
    "crosstab = pd.crosstab(df_merge_secure['region'], df_merge_secure['spending_flag'], dropna = False)"
   ]
  },
  {
   "cell_type": "code",
   "execution_count": 22,
   "id": "bd6dfecb",
   "metadata": {},
   "outputs": [
    {
     "data": {
      "text/html": [
       "<div>\n",
       "<style scoped>\n",
       "    .dataframe tbody tr th:only-of-type {\n",
       "        vertical-align: middle;\n",
       "    }\n",
       "\n",
       "    .dataframe tbody tr th {\n",
       "        vertical-align: top;\n",
       "    }\n",
       "\n",
       "    .dataframe thead th {\n",
       "        text-align: right;\n",
       "    }\n",
       "</style>\n",
       "<table border=\"1\" class=\"dataframe\">\n",
       "  <thead>\n",
       "    <tr style=\"text-align: right;\">\n",
       "      <th>spending_flag</th>\n",
       "      <th>High spender</th>\n",
       "      <th>Low spender</th>\n",
       "    </tr>\n",
       "    <tr>\n",
       "      <th>region</th>\n",
       "      <th></th>\n",
       "      <th></th>\n",
       "    </tr>\n",
       "  </thead>\n",
       "  <tbody>\n",
       "    <tr>\n",
       "      <th>Midwest</th>\n",
       "      <td>155975</td>\n",
       "      <td>7441350</td>\n",
       "    </tr>\n",
       "    <tr>\n",
       "      <th>Northeast</th>\n",
       "      <td>108225</td>\n",
       "      <td>5614511</td>\n",
       "    </tr>\n",
       "    <tr>\n",
       "      <th>South</th>\n",
       "      <td>209691</td>\n",
       "      <td>10582194</td>\n",
       "    </tr>\n",
       "    <tr>\n",
       "      <th>West</th>\n",
       "      <td>160354</td>\n",
       "      <td>8132559</td>\n",
       "    </tr>\n",
       "  </tbody>\n",
       "</table>\n",
       "</div>"
      ],
      "text/plain": [
       "spending_flag  High spender  Low spender\n",
       "region                                  \n",
       "Midwest              155975      7441350\n",
       "Northeast            108225      5614511\n",
       "South                209691     10582194\n",
       "West                 160354      8132559"
      ]
     },
     "execution_count": 22,
     "metadata": {},
     "output_type": "execute_result"
    }
   ],
   "source": [
    "#checking results of crosstab\n",
    "\n",
    "crosstab"
   ]
  },
  {
   "cell_type": "code",
   "execution_count": 24,
   "id": "9ac54140",
   "metadata": {},
   "outputs": [
    {
     "data": {
      "text/plain": [
       "[2.052933104744104, 1.8907040268850424, 1.9430433144904713, 1.9336269414619447]"
      ]
     },
     "execution_count": 24,
     "metadata": {},
     "output_type": "execute_result"
    }
   ],
   "source": [
    "#Calculating percentages of high spenders in each region\n",
    "\n",
    "MW = (155968 / (155968 + 7441357)) * 100\n",
    "NE = (108200 / (108200 + 5614536)) * 100\n",
    "S = (209691 / (209691 + 10582194)) * 100\n",
    "W = (160354 / (160354 + 8132559)) * 100\n",
    "\n",
    "[MW, NE, S, W]"
   ]
  },
  {
   "cell_type": "markdown",
   "id": "36c3c918",
   "metadata": {},
   "source": [
    "We can see that on average, high spenders account for 2% of each region"
   ]
  },
  {
   "cell_type": "markdown",
   "id": "d7c84fe0",
   "metadata": {},
   "source": [
    "## **5. Removing Low-Activity Customers**"
   ]
  },
  {
   "cell_type": "markdown",
   "id": "38713eeb",
   "metadata": {},
   "source": [
    "Creating flags to identify low activity customers (low activity = less than 5 orders)"
   ]
  },
  {
   "cell_type": "code",
   "execution_count": 26,
   "id": "026a0b29",
   "metadata": {},
   "outputs": [],
   "source": [
    "df_merge_secure.loc[df_merge_secure['max_order'] < 5, 'exclusion_flag'] = 'Low activity customer'"
   ]
  },
  {
   "cell_type": "code",
   "execution_count": 27,
   "id": "4a0ac688",
   "metadata": {},
   "outputs": [],
   "source": [
    "df_merge_secure.loc[df_merge_secure['max_order'] >= 5, 'exclusion_flag'] = 'Normal activity customer'"
   ]
  },
  {
   "cell_type": "code",
   "execution_count": 28,
   "id": "fee37e89",
   "metadata": {},
   "outputs": [
    {
     "data": {
      "text/plain": [
       "Normal activity customer    30964564\n",
       "Low activity customer        1440295\n",
       "Name: exclusion_flag, dtype: int64"
      ]
     },
     "execution_count": 28,
     "metadata": {},
     "output_type": "execute_result"
    }
   ],
   "source": [
    "df_merge_secure['exclusion_flag'].value_counts(dropna = False)"
   ]
  },
  {
   "cell_type": "code",
   "execution_count": 29,
   "id": "48f04af1",
   "metadata": {},
   "outputs": [],
   "source": [
    "#Creating dataframe with low activity customers to ensure our data filtered properly\n",
    "\n",
    "df_low_activ_cust = df_merge_secure[df_merge_secure['exclusion_flag'] == 'Low activity customer']"
   ]
  },
  {
   "cell_type": "code",
   "execution_count": 30,
   "id": "05b6558f",
   "metadata": {},
   "outputs": [
    {
     "data": {
      "text/plain": [
       "4    753543\n",
       "3    686741\n",
       "2         6\n",
       "1         5\n",
       "Name: max_order, dtype: int64"
      ]
     },
     "execution_count": 30,
     "metadata": {},
     "output_type": "execute_result"
    }
   ],
   "source": [
    "df_low_activ_cust['max_order'].value_counts(dropna = False)"
   ]
  },
  {
   "cell_type": "markdown",
   "id": "c3adbf67",
   "metadata": {},
   "source": [
    "We can see that all orders are below 5 meaning our data has filtered correctly"
   ]
  },
  {
   "cell_type": "code",
   "execution_count": 31,
   "id": "8020a951",
   "metadata": {},
   "outputs": [],
   "source": [
    "#Creating dataframe excluding low activity customers\n",
    "\n",
    "df_norm_activ_cust = df_merge_secure[df_merge_secure['exclusion_flag'] == 'Normal activity customer']"
   ]
  },
  {
   "cell_type": "code",
   "execution_count": 32,
   "id": "76d046d8",
   "metadata": {},
   "outputs": [
    {
     "data": {
      "text/plain": [
       "99    1171333\n",
       "8      811843\n",
       "6      811396\n",
       "9      810213\n",
       "7      803979\n",
       "       ...   \n",
       "93      50333\n",
       "90      48328\n",
       "97      44949\n",
       "98      44587\n",
       "96      40453\n",
       "Name: max_order, Length: 95, dtype: int64"
      ]
     },
     "execution_count": 32,
     "metadata": {},
     "output_type": "execute_result"
    }
   ],
   "source": [
    "#Checking dataframe\n",
    "\n",
    "df_norm_activ_cust['max_order'].value_counts(dropna = False)"
   ]
  },
  {
   "cell_type": "markdown",
   "id": "d1c95405",
   "metadata": {},
   "source": [
    "All orders are 5 or above as expected"
   ]
  },
  {
   "cell_type": "code",
   "execution_count": 34,
   "id": "f17d84ac",
   "metadata": {},
   "outputs": [],
   "source": [
    "#Exporting dataframe\n",
    "\n",
    "df_norm_activ_cust.to_pickle(os.path.join(path, 'Data', 'Prepared Data', 'ords_prods_cust_norm_activ.pkl'))"
   ]
  },
  {
   "cell_type": "markdown",
   "id": "e35067a9",
   "metadata": {},
   "source": [
    "## **6. Profile Variables**"
   ]
  },
  {
   "cell_type": "markdown",
   "id": "6f85d819",
   "metadata": {},
   "source": [
    "## **Age**"
   ]
  },
  {
   "cell_type": "code",
   "execution_count": 35,
   "id": "c960926b",
   "metadata": {},
   "outputs": [
    {
     "data": {
      "text/plain": [
       "count    3.240486e+07\n",
       "mean     4.946527e+01\n",
       "std      1.848558e+01\n",
       "min      1.800000e+01\n",
       "25%      3.300000e+01\n",
       "50%      4.900000e+01\n",
       "75%      6.500000e+01\n",
       "max      8.100000e+01\n",
       "Name: age, dtype: float64"
      ]
     },
     "execution_count": 35,
     "metadata": {},
     "output_type": "execute_result"
    }
   ],
   "source": [
    "df_merge_secure['age'].describe()"
   ]
  },
  {
   "cell_type": "code",
   "execution_count": 36,
   "id": "50cfbad2",
   "metadata": {},
   "outputs": [],
   "source": [
    "#From the data above, we can see that our ages are as follows:\n",
    "#Min: 18\n",
    "#Average: 49\n",
    "#Max: 81"
   ]
  },
  {
   "cell_type": "code",
   "execution_count": 38,
   "id": "165d99c7",
   "metadata": {},
   "outputs": [],
   "source": [
    "# Creating list based on age group\n",
    "\n",
    "age_group_list = []\n",
    "\n",
    "for value in df_merge_secure['age']:\n",
    "    if (value >= 18) and (value <= 24):\n",
    "        age_group_list.append('18-24')\n",
    "    elif (value >= 25) and (value <= 34):\n",
    "        age_group_list.append('25-34')\n",
    "    elif (value >= 35) and (value <= 44):\n",
    "        age_group_list.append('35-44')\n",
    "    elif (value >= 45) and (value <= 54):\n",
    "        age_group_list.append('45-54')\n",
    "    elif (value >= 55) and (value <= 64):\n",
    "        age_group_list.append('55-64')\n",
    "    elif (value >= 65) and (value <= 74):\n",
    "        age_group_list.append('65-74')\n",
    "    elif (value >= 75) and (value <= 84):\n",
    "        age_group_list.append('75-84')\n",
    "    elif (value >= 85):\n",
    "        age_group_list.append('85+')"
   ]
  },
  {
   "cell_type": "code",
   "execution_count": 39,
   "id": "0763bff0",
   "metadata": {},
   "outputs": [],
   "source": [
    "#Creating an age_group column in dataframe\n",
    "\n",
    "df_merge_secure['age_group'] = age_group_list"
   ]
  },
  {
   "cell_type": "code",
   "execution_count": 41,
   "id": "7cf2c2dd",
   "metadata": {},
   "outputs": [
    {
     "data": {
      "text/plain": [
       "18-24    3573001\n",
       "25-34    5054654\n",
       "35-44    5062429\n",
       "45-54    5111126\n",
       "55-64    5028565\n",
       "65-74    5005001\n",
       "75-84    3570083\n",
       "Name: age_group, dtype: int64"
      ]
     },
     "execution_count": 41,
     "metadata": {},
     "output_type": "execute_result"
    }
   ],
   "source": [
    "#Results of age group list\n",
    "\n",
    "df_merge_secure['age_group'].value_counts(dropna = False).sort_index()"
   ]
  },
  {
   "cell_type": "markdown",
   "id": "94f9438a",
   "metadata": {},
   "source": [
    "We can see above that the most populated age group is 45-54 followed closely be 35-44, 25-34, 55-64, and 65-74 with steeper dropoffs in the 18-24 and 75-84 categories"
   ]
  },
  {
   "cell_type": "markdown",
   "id": "934b5fde",
   "metadata": {},
   "source": [
    "## **Income**"
   ]
  },
  {
   "cell_type": "code",
   "execution_count": 42,
   "id": "c03db3fa",
   "metadata": {},
   "outputs": [
    {
     "data": {
      "text/plain": [
       "count    3.240486e+07\n",
       "mean     9.943773e+04\n",
       "std      4.305727e+04\n",
       "min      2.590300e+04\n",
       "25%      6.700400e+04\n",
       "50%      9.661800e+04\n",
       "75%      1.279120e+05\n",
       "max      5.939010e+05\n",
       "Name: income, dtype: float64"
      ]
     },
     "execution_count": 42,
     "metadata": {},
     "output_type": "execute_result"
    }
   ],
   "source": [
    "df_merge_secure['income'].describe()"
   ]
  },
  {
   "cell_type": "code",
   "execution_count": 45,
   "id": "ee3a86c0",
   "metadata": {},
   "outputs": [],
   "source": [
    "#From the data above, we can see income distributions are as follows:\n",
    "#Min: $25,903\n",
    "#Average: $99,437\n",
    "#Max: $593,901"
   ]
  },
  {
   "cell_type": "code",
   "execution_count": 46,
   "id": "b2100941",
   "metadata": {},
   "outputs": [],
   "source": [
    "#Creating list for income groups\n",
    "\n",
    "income_group_list = []\n",
    "\n",
    "for value in df_merge_secure['income']:\n",
    "    if (value >= 25000) and (value <= 50000):\n",
    "        income_group_list.append('25000-50000')\n",
    "    elif (value >= 50000) and (value <= 75000):\n",
    "        income_group_list.append('50000-75000')\n",
    "    elif (value >= 75000) and (value <= 100000):\n",
    "        income_group_list.append('75000-100000')\n",
    "    elif (value >= 100000) and (value <= 125000):\n",
    "        income_group_list.append('100000-125000')\n",
    "    elif (value >= 125000) and (value <= 150000):\n",
    "        income_group_list.append('125000-150000')\n",
    "    elif (value >= 150000) and (value <= 175000):\n",
    "        income_group_list.append('150000-175000')\n",
    "    elif (value >= 175000) and (value <= 200000):\n",
    "        income_group_list.append('175000-200000')\n",
    "    elif (value >= 200000) and (value <= 300000):\n",
    "        income_group_list.append('200000-300000')\n",
    "    elif (value >= 300000) and (value <= 400000):\n",
    "        income_group_list.append('300000-400000')\n",
    "    elif (value >= 400000) and (value <= 500000):\n",
    "        income_group_list.append('400000-500000')\n",
    "    elif value >= 500000:\n",
    "        income_group_list.append('500000+')"
   ]
  },
  {
   "cell_type": "code",
   "execution_count": 47,
   "id": "2f446a5b",
   "metadata": {},
   "outputs": [],
   "source": [
    "#Assigning income list to column in dataframe\n",
    "\n",
    "df_merge_secure['income_group'] = income_group_list"
   ]
  },
  {
   "cell_type": "code",
   "execution_count": 50,
   "id": "72398af2",
   "metadata": {},
   "outputs": [
    {
     "data": {
      "text/plain": [
       "75000-100000     7147837\n",
       "50000-75000      6848737\n",
       "100000-125000    6183245\n",
       "125000-150000    4580117\n",
       "150000-175000    3743496\n",
       "25000-50000      3594083\n",
       "200000-300000     156820\n",
       "300000-400000      53931\n",
       "175000-200000      48901\n",
       "400000-500000      28337\n",
       "500000+            19355\n",
       "Name: income_group, dtype: int64"
      ]
     },
     "execution_count": 50,
     "metadata": {},
     "output_type": "execute_result"
    }
   ],
   "source": [
    "#Checking values\n",
    "\n",
    "df_merge_secure['income_group'].value_counts(dropna = False)"
   ]
  },
  {
   "cell_type": "markdown",
   "id": "53626074",
   "metadata": {},
   "source": [
    "Our most popular income range is 75,000 - 100,000 with our least popular being 500,000+. Surprisingly, there are more results in the 300,000 - 400,000 range than there are in the 175,000 - 200,000 range."
   ]
  },
  {
   "cell_type": "markdown",
   "id": "d35b9700",
   "metadata": {},
   "source": [
    "## **Goods**"
   ]
  },
  {
   "cell_type": "code",
   "execution_count": 51,
   "id": "ebb0f9e4",
   "metadata": {},
   "outputs": [
    {
     "data": {
      "text/plain": [
       "1     2234743\n",
       "2       36291\n",
       "3     1172428\n",
       "4     9479291\n",
       "5      153696\n",
       "6      269253\n",
       "7     2688123\n",
       "8       97716\n",
       "9      866627\n",
       "10      34573\n",
       "11     447572\n",
       "12     708927\n",
       "13    1875369\n",
       "14     703033\n",
       "15    1068058\n",
       "16    5398747\n",
       "17     738666\n",
       "18     423802\n",
       "19    2887550\n",
       "20    1051249\n",
       "21      69145\n",
       "Name: department_id, dtype: int64"
      ]
     },
     "execution_count": 51,
     "metadata": {},
     "output_type": "execute_result"
    }
   ],
   "source": [
    "#checking values in each department\n",
    "\n",
    "df_merge_secure['department_id'].value_counts().sort_index()"
   ]
  },
  {
   "cell_type": "code",
   "execution_count": 52,
   "id": "5bcd73a7",
   "metadata": {},
   "outputs": [],
   "source": [
    "# Creating list of goods by group\n",
    "\n",
    "goods_group_list = []\n",
    "\n",
    "for value in df_merge_secure['department_id']:\n",
    "    if value == 1:\n",
    "        goods_group_list.append('Frozen')\n",
    "    elif value == 2:\n",
    "        goods_group_list.append('Other')\n",
    "    elif value == 3:\n",
    "        goods_group_list.append('Bakery')\n",
    "    elif value == 4:\n",
    "        goods_group_list.append('Produce')\n",
    "    elif value == 5:\n",
    "        goods_group_list.append('Alcohol')\n",
    "    elif value == 6:\n",
    "        goods_group_list.append('International')\n",
    "    elif value == 7:\n",
    "        goods_group_list.append('Beverages')\n",
    "    elif value == 8:\n",
    "        goods_group_list.append('Pets')\n",
    "    elif value == 9:\n",
    "        goods_group_list.append('Dry goods pasta')\n",
    "    elif value == 10:\n",
    "        goods_group_list.append('Bulk')\n",
    "    elif value == 11:\n",
    "        goods_group_list.append('Personal care')\n",
    "    elif value == 12:\n",
    "        goods_group_list.append('Meat seafood')\n",
    "    elif value == 13:\n",
    "        goods_group_list.append('Pantry')\n",
    "    elif value == 14:\n",
    "        goods_group_list.append('Breakfast')\n",
    "    elif value == 15:\n",
    "        goods_group_list.append('Canned goods')\n",
    "    elif value == 16:\n",
    "        goods_group_list.append('Dairy eggs')\n",
    "    elif value == 17:\n",
    "        goods_group_list.append('Household')\n",
    "    elif value == 18:\n",
    "        goods_group_list.append('Babies')\n",
    "    elif value == 19:\n",
    "        goods_group_list.append('Snacks')\n",
    "    elif value == 20:\n",
    "        goods_group_list.append('Deli')\n",
    "    elif value == 21:\n",
    "        goods_group_list.append('Missing')"
   ]
  },
  {
   "cell_type": "code",
   "execution_count": 53,
   "id": "c29fd570",
   "metadata": {},
   "outputs": [],
   "source": [
    "#Assining goods group to a column in dataframe\n",
    "\n",
    "df_merge_secure['goods_group'] = goods_group_list"
   ]
  },
  {
   "cell_type": "code",
   "execution_count": 54,
   "id": "0153b56a",
   "metadata": {},
   "outputs": [
    {
     "data": {
      "text/plain": [
       "Produce            9479291\n",
       "Dairy eggs         5398747\n",
       "Snacks             2887550\n",
       "Beverages          2688123\n",
       "Frozen             2234743\n",
       "Pantry             1875369\n",
       "Bakery             1172428\n",
       "Canned goods       1068058\n",
       "Deli               1051249\n",
       "Dry goods pasta     866627\n",
       "Household           738666\n",
       "Meat seafood        708927\n",
       "Breakfast           703033\n",
       "Personal care       447572\n",
       "Babies              423802\n",
       "International       269253\n",
       "Alcohol             153696\n",
       "Pets                 97716\n",
       "Missing              69145\n",
       "Other                36291\n",
       "Bulk                 34573\n",
       "Name: goods_group, dtype: int64"
      ]
     },
     "execution_count": 54,
     "metadata": {},
     "output_type": "execute_result"
    }
   ],
   "source": [
    "df_merge_secure['goods_group'].value_counts()"
   ]
  },
  {
   "cell_type": "markdown",
   "id": "9912bedf",
   "metadata": {},
   "source": [
    "Our most abundant goods by a wide margin are in the produce department with our least amount being in the bulk department."
   ]
  },
  {
   "cell_type": "markdown",
   "id": "2f424812",
   "metadata": {},
   "source": [
    "## **Dependents**"
   ]
  },
  {
   "cell_type": "code",
   "execution_count": 55,
   "id": "95e07221",
   "metadata": {},
   "outputs": [
    {
     "data": {
      "text/plain": [
       "0    8097503\n",
       "1    8081104\n",
       "2    8091143\n",
       "3    8135109\n",
       "Name: num_of_dependants, dtype: int64"
      ]
     },
     "execution_count": 55,
     "metadata": {},
     "output_type": "execute_result"
    }
   ],
   "source": [
    "#Checking number of dependants \n",
    "\n",
    "df_merge_secure['num_of_dependants'].value_counts().sort_index()"
   ]
  },
  {
   "cell_type": "code",
   "execution_count": 56,
   "id": "b532727a",
   "metadata": {},
   "outputs": [],
   "source": [
    "#Creating list of parents vs non-parents\n",
    "\n",
    "dependants_group_list = []\n",
    "\n",
    "for value in df_merge_secure['num_of_dependants']:\n",
    "    if value == 0:\n",
    "        dependants_group_list.append('Non-parent')\n",
    "    else:\n",
    "        dependants_group_list.append('Parent')"
   ]
  },
  {
   "cell_type": "code",
   "execution_count": 59,
   "id": "c610dfca",
   "metadata": {},
   "outputs": [],
   "source": [
    "#Creating column for parents vs non-parents in dataframe\n",
    "\n",
    "df_merge_secure['parent'] = dependants_group_list"
   ]
  },
  {
   "cell_type": "code",
   "execution_count": 60,
   "id": "91f614cd",
   "metadata": {},
   "outputs": [
    {
     "data": {
      "text/plain": [
       "Parent        24307356\n",
       "Non-parent     8097503\n",
       "Name: parent, dtype: int64"
      ]
     },
     "execution_count": 60,
     "metadata": {},
     "output_type": "execute_result"
    }
   ],
   "source": [
    "df_merge_secure['parent'].value_counts()"
   ]
  },
  {
   "cell_type": "markdown",
   "id": "726a55d9",
   "metadata": {},
   "source": [
    "Approximately 75% of our customer base are parents with 25% being non-parents."
   ]
  },
  {
   "cell_type": "markdown",
   "id": "ac38ece8",
   "metadata": {},
   "source": [
    "## **7. Visualizations**"
   ]
  },
  {
   "cell_type": "markdown",
   "id": "9ca84bb0",
   "metadata": {},
   "source": [
    "## **Age**"
   ]
  },
  {
   "cell_type": "code",
   "execution_count": 65,
   "id": "703bb000",
   "metadata": {},
   "outputs": [
    {
     "data": {
      "image/png": "[encoded data removed]",
      "text/plain": [
       "<Figure size 432x288 with 1 Axes>"
      ]
     },
     "metadata": {
      "needs_background": "light"
     },
     "output_type": "display_data"
    }
   ],
   "source": [
    "#Creating a bar chart to show the different age groups\n",
    "\n",
    "age_bar_chart = df_merge_secure['age_group'].value_counts().plot.bar(color = 'blue', xlabel = 'Age group', ylabel = 'Count(millions)', title = 'Age Group Distribution')"
   ]
  },
  {
   "cell_type": "code",
   "execution_count": 66,
   "id": "ef5add1b",
   "metadata": {},
   "outputs": [],
   "source": [
    "#Saving chart\n",
    "\n",
    "age_bar_chart.figure.savefig(os.path.join(path, 'Analysis', 'Visualizations', 'age_group_bar_chart.png'))"
   ]
  },
  {
   "cell_type": "markdown",
   "id": "983a89b8",
   "metadata": {},
   "source": [
    "## **Income**"
   ]
  },
  {
   "cell_type": "code",
   "execution_count": 69,
   "id": "7f552017",
   "metadata": {},
   "outputs": [
    {
     "data": {
      "image/png": "[encoded data removed]",
      "text/plain": [
       "<Figure size 432x288 with 1 Axes>"
      ]
     },
     "metadata": {
      "needs_background": "light"
     },
     "output_type": "display_data"
    }
   ],
   "source": [
    "#Creating bar chart to show different \n",
    "\n",
    "income_bar_chart = df_merge_secure['income_group'].value_counts().plot.bar(color = 'tab:purple', xlabel = 'Income group', ylabel = 'Count(millions)', title = 'Income Distribution')"
   ]
  },
  {
   "cell_type": "code",
   "execution_count": 70,
   "id": "728abcab",
   "metadata": {},
   "outputs": [],
   "source": [
    "#Saving chart\n",
    "\n",
    "income_bar_chart.figure.savefig(os.path.join(path, 'Analysis', 'Visualizations', 'income_group_distribution_bar.png'))"
   ]
  },
  {
   "cell_type": "markdown",
   "id": "ff7dc629",
   "metadata": {},
   "source": [
    "## **Goods**"
   ]
  },
  {
   "cell_type": "code",
   "execution_count": 71,
   "id": "7974a495",
   "metadata": {},
   "outputs": [
    {
     "data": {
      "image/png": "[encoded data removed]",
      "text/plain": [
       "<Figure size 432x288 with 1 Axes>"
      ]
     },
     "metadata": {
      "needs_background": "light"
     },
     "output_type": "display_data"
    }
   ],
   "source": [
    "#Creating bar chart to show distribution of goods\n",
    "\n",
    "goods_bar_chart = df_merge_secure['goods_group'].value_counts().plot.bar(color = 'tab:red', xlabel = 'Goods Department', ylabel = 'Count(millions)', title = 'Goods Distribution')"
   ]
  },
  {
   "cell_type": "code",
   "execution_count": 72,
   "id": "dc1987cc",
   "metadata": {},
   "outputs": [],
   "source": [
    "#Saving chart\n",
    "\n",
    "goods_bar_chart.figure.savefig(os.path.join(path, 'Analysis', 'Visualizations', 'goods_distribution_bar.png'))"
   ]
  },
  {
   "cell_type": "markdown",
   "id": "27d7bccb",
   "metadata": {},
   "source": [
    "## **Dependants**"
   ]
  },
  {
   "cell_type": "code",
   "execution_count": 75,
   "id": "755dc557",
   "metadata": {},
   "outputs": [
    {
     "data": {
      "image/png": "[encoded data removed]",
      "text/plain": [
       "<Figure size 432x288 with 1 Axes>"
      ]
     },
     "metadata": {},
     "output_type": "display_data"
    }
   ],
   "source": [
    "#Creating pie chart to show parents vs non-parents\n",
    "\n",
    "dependents_chart = df_merge_secure['parent'].value_counts().plot.pie(title = 'Parents vs Non-Parents', ylabel = '')"
   ]
  },
  {
   "cell_type": "code",
   "execution_count": 76,
   "id": "fcad3305",
   "metadata": {},
   "outputs": [],
   "source": [
    "#Saving chart\n",
    "\n",
    "dependants_chart.figure.savefig(os.path.join(path, 'Analysis', 'Visualizations', 'parents_nonparents_pie.png'))"
   ]
  },
  {
   "cell_type": "markdown",
   "id": "d295d216",
   "metadata": {},
   "source": [
    "## **8. Comparing Profiles with Regions and Departments**"
   ]
  },
  {
   "cell_type": "code",
   "execution_count": 77,
   "id": "544895a5",
   "metadata": {},
   "outputs": [],
   "source": [
    "#Creating crosstab showing high/low spenders based on region\n",
    "\n",
    "region_spending_crosstab = pd.crosstab(df_merge_secure['region'], df_merge_secure['spending_flag'], dropna = False)"
   ]
  },
  {
   "cell_type": "code",
   "execution_count": 78,
   "id": "165fb4f1",
   "metadata": {},
   "outputs": [
    {
     "data": {
      "text/html": [
       "<div>\n",
       "<style scoped>\n",
       "    .dataframe tbody tr th:only-of-type {\n",
       "        vertical-align: middle;\n",
       "    }\n",
       "\n",
       "    .dataframe tbody tr th {\n",
       "        vertical-align: top;\n",
       "    }\n",
       "\n",
       "    .dataframe thead th {\n",
       "        text-align: right;\n",
       "    }\n",
       "</style>\n",
       "<table border=\"1\" class=\"dataframe\">\n",
       "  <thead>\n",
       "    <tr style=\"text-align: right;\">\n",
       "      <th>spending_flag</th>\n",
       "      <th>High spender</th>\n",
       "      <th>Low spender</th>\n",
       "    </tr>\n",
       "    <tr>\n",
       "      <th>region</th>\n",
       "      <th></th>\n",
       "      <th></th>\n",
       "    </tr>\n",
       "  </thead>\n",
       "  <tbody>\n",
       "    <tr>\n",
       "      <th>Midwest</th>\n",
       "      <td>155975</td>\n",
       "      <td>7441350</td>\n",
       "    </tr>\n",
       "    <tr>\n",
       "      <th>Northeast</th>\n",
       "      <td>108225</td>\n",
       "      <td>5614511</td>\n",
       "    </tr>\n",
       "    <tr>\n",
       "      <th>South</th>\n",
       "      <td>209691</td>\n",
       "      <td>10582194</td>\n",
       "    </tr>\n",
       "    <tr>\n",
       "      <th>West</th>\n",
       "      <td>160354</td>\n",
       "      <td>8132559</td>\n",
       "    </tr>\n",
       "  </tbody>\n",
       "</table>\n",
       "</div>"
      ],
      "text/plain": [
       "spending_flag  High spender  Low spender\n",
       "region                                  \n",
       "Midwest              155975      7441350\n",
       "Northeast            108225      5614511\n",
       "South                209691     10582194\n",
       "West                 160354      8132559"
      ]
     },
     "execution_count": 78,
     "metadata": {},
     "output_type": "execute_result"
    }
   ],
   "source": [
    "#results\n",
    "\n",
    "region_spending_crosstab"
   ]
  },
  {
   "cell_type": "code",
   "execution_count": 79,
   "id": "5e15f15b",
   "metadata": {},
   "outputs": [
    {
     "data": {
      "image/png": "[encoded data removed]",
      "text/plain": [
       "<Figure size 432x288 with 1 Axes>"
      ]
     },
     "metadata": {
      "needs_background": "light"
     },
     "output_type": "display_data"
    }
   ],
   "source": [
    "region_spending_bar_chart = region_spending_crosstab.plot.bar(stacked = True, title = 'Types of Spenders by Region')"
   ]
  },
  {
   "cell_type": "code",
   "execution_count": 81,
   "id": "2402b1c4",
   "metadata": {},
   "outputs": [],
   "source": [
    "#Saving chart\n",
    "\n",
    "region_spending_bar_chart.figure.savefig(os.path.join(path, 'Analysis', 'Visualizations', 'region_spending_bar_chart.png'))"
   ]
  },
  {
   "cell_type": "markdown",
   "id": "e8c21d84",
   "metadata": {},
   "source": [
    "## **9. Exporting Notebook**"
   ]
  },
  {
   "cell_type": "code",
   "execution_count": 1,
   "id": "e62100a0",
   "metadata": {},
   "outputs": [
    {
     "ename": "NameError",
     "evalue": "name 'df_merge_secure' is not defined",
     "output_type": "error",
     "traceback": [
      "\u001b[1;31m---------------------------------------------------------------------------\u001b[0m",
      "\u001b[1;31mNameError\u001b[0m                                 Traceback (most recent call last)",
      "Input \u001b[1;32mIn [1]\u001b[0m, in \u001b[0;36m<cell line: 1>\u001b[1;34m()\u001b[0m\n\u001b[1;32m----> 1\u001b[0m \u001b[43mdf_merge_secure\u001b[49m\u001b[38;5;241m.\u001b[39mhead(\u001b[38;5;241m1\u001b[39m)\n",
      "\u001b[1;31mNameError\u001b[0m: name 'df_merge_secure' is not defined"
     ]
    }
   ],
   "source": [
    "df_merge_secure.head(1)"
   ]
  },
  {
   "cell_type": "code",
   "execution_count": null,
   "id": "25811006",
   "metadata": {},
   "outputs": [],
   "source": []
  }
 ],
 "metadata": {
  "kernelspec": {
   "display_name": "Python 3 (ipykernel)",
   "language": "python",
   "name": "python3"
  },
  "language_info": {
   "codemirror_mode": {
    "name": "ipython",
    "version": 3
   },
   "file_extension": ".py",
   "mimetype": "text/x-python",
   "name": "python",
   "nbconvert_exporter": "python",
   "pygments_lexer": "ipython3",
   "version": "3.9.12"
  }
 },
 "nbformat": 4,
 "nbformat_minor": 5
}
