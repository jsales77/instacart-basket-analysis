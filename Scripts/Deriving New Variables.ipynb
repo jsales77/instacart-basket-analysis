{
 "cells": [
  {
   "cell_type": "markdown",
   "id": "5f17fddf",
   "metadata": {},
   "source": [
    "# Exercise 4.7"
   ]
  },
  {
   "cell_type": "markdown",
   "id": "3ff7736b",
   "metadata": {},
   "source": [
    "# Table of Contents\n",
    "1. Importing Data\n",
    "2. Creating labels for products\n",
    "3. Using .loc instead of if-statements\n",
    "4. Creating loop for busiest days\n",
    "5. Creating loop for hours of day"
   ]
  },
  {
   "cell_type": "markdown",
   "id": "c9c6ad8d",
   "metadata": {},
   "source": [
    "# 1. Importing Data"
   ]
  },
  {
   "cell_type": "code",
   "execution_count": 1,
   "id": "ff04e657",
   "metadata": {},
   "outputs": [],
   "source": [
    "#importing libraries\n",
    "import pandas as pd\n",
    "import numpy as np\n",
    "import os"
   ]
  },
  {
   "cell_type": "code",
   "execution_count": 2,
   "id": "01b6a3df",
   "metadata": {},
   "outputs": [],
   "source": [
    "#defining path\n",
    "path = r'C:\\Users\\jonsa\\Documents\\Instacart Basket Analysis'"
   ]
  },
  {
   "cell_type": "code",
   "execution_count": 3,
   "id": "1c93829c",
   "metadata": {},
   "outputs": [],
   "source": [
    "ords_prods_merged = pd.read_pickle(os.path.join(path, 'Data', 'Prepared Data' , 'orders_products_merged.pkl'))"
   ]
  },
  {
   "cell_type": "code",
   "execution_count": 4,
   "id": "3ca836c2",
   "metadata": {},
   "outputs": [],
   "source": [
    "df = ords_prods_merged[:1000000]"
   ]
  },
  {
   "cell_type": "markdown",
   "id": "2f323a81",
   "metadata": {},
   "source": [
    "# 2. Creating labels for products"
   ]
  },
  {
   "cell_type": "code",
   "execution_count": 5,
   "id": "a8a96e00",
   "metadata": {},
   "outputs": [],
   "source": [
    "#creating an if-statement to label if products are low, mid, or high range\n",
    "def price_label(row):\n",
    "    \n",
    "    if row['prices'] <= 5:\n",
    "        return 'Low range product'\n",
    "    elif (row['prices'] > 5) and (row['prices'] <= 15):\n",
    "        return 'Mid range product'\n",
    "    elif row['prices'] > 15:\n",
    "        return 'High range product'\n",
    "    else: return np.nan"
   ]
  },
  {
   "cell_type": "code",
   "execution_count": 6,
   "id": "11243f1e",
   "metadata": {},
   "outputs": [
    {
     "name": "stderr",
     "output_type": "stream",
     "text": [
      "C:\\Users\\jonsa\\AppData\\Local\\Temp\\ipykernel_9792\\1527635097.py:1: SettingWithCopyWarning: \n",
      "A value is trying to be set on a copy of a slice from a DataFrame.\n",
      "Try using .loc[row_indexer,col_indexer] = value instead\n",
      "\n",
      "See the caveats in the documentation: https://pandas.pydata.org/pandas-docs/stable/user_guide/indexing.html#returning-a-view-versus-a-copy\n",
      "  df['price_label'] = df.apply(price_label, axis=1)\n"
     ]
    }
   ],
   "source": [
    "df['price_label'] = df.apply(price_label, axis=1)"
   ]
  },
  {
   "cell_type": "code",
   "execution_count": 7,
   "id": "8355d175",
   "metadata": {},
   "outputs": [
    {
     "data": {
      "text/plain": [
       "Mid range product    756450\n",
       "Low range product    243550\n",
       "Name: price_label, dtype: int64"
      ]
     },
     "execution_count": 7,
     "metadata": {},
     "output_type": "execute_result"
    }
   ],
   "source": [
    "#counting values within each category\n",
    "df['price_label'].value_counts()"
   ]
  },
  {
   "cell_type": "code",
   "execution_count": 8,
   "id": "ccf9bf79",
   "metadata": {},
   "outputs": [
    {
     "data": {
      "text/plain": [
       "14.8"
      ]
     },
     "execution_count": 8,
     "metadata": {},
     "output_type": "execute_result"
    }
   ],
   "source": [
    "df['prices'].max()"
   ]
  },
  {
   "cell_type": "markdown",
   "id": "69a50afe",
   "metadata": {},
   "source": [
    "**#Our max priced product is $14.80 meaning our high range product statement will be empty**"
   ]
  },
  {
   "cell_type": "markdown",
   "id": "a000ba8f",
   "metadata": {},
   "source": [
    "**#Creating a df.loc to save on memory instead of filtering only the first 1,000,000 rows**"
   ]
  },
  {
   "cell_type": "markdown",
   "id": "4453a080",
   "metadata": {},
   "source": [
    "# 3. Using .loc instead of if-statement"
   ]
  },
  {
   "cell_type": "code",
   "execution_count": 9,
   "id": "d6ed5d07",
   "metadata": {},
   "outputs": [],
   "source": [
    "ords_prods_merged.loc[ords_prods_merged['prices'] >  15, 'price_range_loc'] = 'High range product'"
   ]
  },
  {
   "cell_type": "code",
   "execution_count": 10,
   "id": "0664b063",
   "metadata": {},
   "outputs": [],
   "source": [
    "ords_prods_merged.loc[(ords_prods_merged['prices'] <= 15) & (ords_prods_merged['prices'] > 5), 'price_range_loc'] = 'Mid-range product'"
   ]
  },
  {
   "cell_type": "code",
   "execution_count": 11,
   "id": "aeb4f48d",
   "metadata": {},
   "outputs": [],
   "source": [
    "ords_prods_merged.loc[ords_prods_merged['prices'] <= 5, 'price_range_loc'] = 'Low-range product'"
   ]
  },
  {
   "cell_type": "code",
   "execution_count": 12,
   "id": "a0c33325",
   "metadata": {},
   "outputs": [
    {
     "data": {
      "text/plain": [
       "Mid-range product     21860860\n",
       "Low-range product     10126321\n",
       "High range product      417678\n",
       "Name: price_range_loc, dtype: int64"
      ]
     },
     "execution_count": 12,
     "metadata": {},
     "output_type": "execute_result"
    }
   ],
   "source": [
    "#Returning results from entire dataframe\n",
    "ords_prods_merged['price_range_loc'].value_counts(dropna = False)"
   ]
  },
  {
   "cell_type": "code",
   "execution_count": 13,
   "id": "372ac773",
   "metadata": {
    "scrolled": true
   },
   "outputs": [
    {
     "data": {
      "text/plain": [
       "0    6204182\n",
       "1    5660230\n",
       "6    4496490\n",
       "2    4213830\n",
       "5    4205791\n",
       "3    3840534\n",
       "4    3783802\n",
       "Name: orders_day_of_week, dtype: int64"
      ]
     },
     "execution_count": 13,
     "metadata": {},
     "output_type": "execute_result"
    }
   ],
   "source": [
    "#Identifying most popular days of the week. 0 = Saturday\n",
    "ords_prods_merged['orders_day_of_week'].value_counts(dropna = False)"
   ]
  },
  {
   "cell_type": "markdown",
   "id": "8c3bb129",
   "metadata": {},
   "source": [
    "# 4. Creating loop for busiest days"
   ]
  },
  {
   "cell_type": "code",
   "execution_count": 14,
   "id": "4c0025db",
   "metadata": {},
   "outputs": [],
   "source": [
    "#Creating a for-loop to create a new column 'busiest_day' to mark which days are busiest, least busy, and average\n",
    "result = []\n",
    "\n",
    "for value in ords_prods_merged['orders_day_of_week']:\n",
    "    if value == 0:\n",
    "        result.append('Busiest day')\n",
    "    elif value == 4:\n",
    "        result.append('Least busy day')\n",
    "    else:\n",
    "        result.append('Regular busy day')"
   ]
  },
  {
   "cell_type": "code",
   "execution_count": 15,
   "id": "1888609a",
   "metadata": {},
   "outputs": [],
   "source": [
    "ords_prods_merged['busiest_day'] = result"
   ]
  },
  {
   "cell_type": "code",
   "execution_count": 16,
   "id": "750b926e",
   "metadata": {},
   "outputs": [
    {
     "data": {
      "text/plain": [
       "Regular busy day    22416875\n",
       "Busiest day          6204182\n",
       "Least busy day       3783802\n",
       "Name: busiest_day, dtype: int64"
      ]
     },
     "execution_count": 16,
     "metadata": {},
     "output_type": "execute_result"
    }
   ],
   "source": [
    "ords_prods_merged['busiest_day'].value_counts(dropna = False)"
   ]
  },
  {
   "cell_type": "code",
   "execution_count": 17,
   "id": "1cdf0df5",
   "metadata": {},
   "outputs": [
    {
     "data": {
      "text/plain": [
       "0    6204182\n",
       "1    5660230\n",
       "6    4496490\n",
       "2    4213830\n",
       "5    4205791\n",
       "3    3840534\n",
       "4    3783802\n",
       "Name: orders_day_of_week, dtype: int64"
      ]
     },
     "execution_count": 17,
     "metadata": {},
     "output_type": "execute_result"
    }
   ],
   "source": [
    "ords_prods_merged['orders_day_of_week'].value_counts(dropna = False)"
   ]
  },
  {
   "cell_type": "markdown",
   "id": "0487f352",
   "metadata": {},
   "source": [
    "**#Task**"
   ]
  },
  {
   "cell_type": "code",
   "execution_count": 18,
   "id": "ed2a6ca9",
   "metadata": {},
   "outputs": [],
   "source": [
    "#Creating a new for loop that identifies the two busiest and least busy days\n",
    "result2 = []\n",
    "\n",
    "for value in ords_prods_merged['orders_day_of_week']:\n",
    "  if value in [0,1]:\n",
    "    result2.append(\"Busiest days\")\n",
    "  elif value in [3,4]:\n",
    "    result2.append(\"Slowest days\")\n",
    "  else:\n",
    "    result2.append(\"Regularly busy\")"
   ]
  },
  {
   "cell_type": "code",
   "execution_count": 19,
   "id": "5b8d925e",
   "metadata": {},
   "outputs": [],
   "source": [
    "ords_prods_merged['busiest_days'] = result2"
   ]
  },
  {
   "cell_type": "code",
   "execution_count": 20,
   "id": "4423d59d",
   "metadata": {},
   "outputs": [
    {
     "data": {
      "text/plain": [
       "Regularly busy    12916111\n",
       "Busiest days      11864412\n",
       "Slowest days       7624336\n",
       "Name: busiest_days, dtype: int64"
      ]
     },
     "execution_count": 20,
     "metadata": {},
     "output_type": "execute_result"
    }
   ],
   "source": [
    "#Printing the results of our if-loop\n",
    "ords_prods_merged['busiest_days'].value_counts(dropna = False)"
   ]
  },
  {
   "cell_type": "code",
   "execution_count": 21,
   "id": "3d94b79d",
   "metadata": {},
   "outputs": [
    {
     "data": {
      "text/plain": [
       "Index(['Unnamed: 0.1', 'Unnamed: 0_x', 'order_id', 'user_id', 'order_number',\n",
       "       'orders_day_of_week', 'order_hour_of_day', 'days_since_previous_order',\n",
       "       'only_order', 'product_id', 'add_to_cart_order', 'reordered', '_merge',\n",
       "       'Unnamed: 0_y', 'product_name', 'aisle_id', 'department_id', 'prices',\n",
       "       'price_range_loc', 'busiest_day', 'busiest_days'],\n",
       "      dtype='object')"
      ]
     },
     "execution_count": 21,
     "metadata": {},
     "output_type": "execute_result"
    }
   ],
   "source": [
    "ords_prods_merged.columns"
   ]
  },
  {
   "cell_type": "code",
   "execution_count": 22,
   "id": "5a5e4dc6",
   "metadata": {
    "scrolled": true
   },
   "outputs": [
    {
     "data": {
      "text/plain": [
       "10    2761760\n",
       "11    2736140\n",
       "14    2689136\n",
       "15    2662144\n",
       "13    2660954\n",
       "12    2618532\n",
       "16    2535202\n",
       "9     2454203\n",
       "17    2087654\n",
       "8     1718118\n",
       "18    1636502\n",
       "19    1258305\n",
       "20     976156\n",
       "7      891054\n",
       "21     795637\n",
       "22     634225\n",
       "23     402316\n",
       "6      290493\n",
       "0      218769\n",
       "1      115700\n",
       "5       87961\n",
       "2       69375\n",
       "4       53242\n",
       "3       51281\n",
       "Name: order_hour_of_day, dtype: int64"
      ]
     },
     "execution_count": 22,
     "metadata": {},
     "output_type": "execute_result"
    }
   ],
   "source": [
    "#Identifying which hours are the busiest and least busy\n",
    "ords_prods_merged['order_hour_of_day'].value_counts(dropna = False)"
   ]
  },
  {
   "cell_type": "markdown",
   "id": "0a5abbde",
   "metadata": {},
   "source": [
    "# 5. Creating loop for hours of day"
   ]
  },
  {
   "cell_type": "code",
   "execution_count": 26,
   "id": "d19b3831",
   "metadata": {},
   "outputs": [],
   "source": [
    "#Creating a for loop to label all values according to orders made during each hour\n",
    "result3 = []\n",
    "\n",
    "for value in ords_prods_merged['order_hour_of_day']:\n",
    "  if value >= 10 and value <= 16:\n",
    "    result3.append(\"Most orders\")\n",
    "  elif value <= 6:\n",
    "    result3.append(\"Least orders\")\n",
    "  else:\n",
    "    result3.append(\"Average orders\")"
   ]
  },
  {
   "cell_type": "code",
   "execution_count": 27,
   "id": "12c90e50",
   "metadata": {},
   "outputs": [],
   "source": [
    "ords_prods_merged['busiest_period_of_day'] = result3"
   ]
  },
  {
   "cell_type": "code",
   "execution_count": 28,
   "id": "2009b7b3",
   "metadata": {},
   "outputs": [
    {
     "data": {
      "text/plain": [
       "Most orders       18663868\n",
       "Average orders    12854170\n",
       "Least orders        886821\n",
       "Name: busiest_period_of_day, dtype: int64"
      ]
     },
     "execution_count": 28,
     "metadata": {},
     "output_type": "execute_result"
    }
   ],
   "source": [
    "#printing results of the for loop\n",
    "ords_prods_merged['busiest_period_of_day'].value_counts(dropna = False)"
   ]
  },
  {
   "cell_type": "code",
   "execution_count": 29,
   "id": "66328951",
   "metadata": {},
   "outputs": [],
   "source": [
    "ords_prods_merged.to_pickle(os.path.join(path, 'Data', 'Prepared Data', 'ords_prods_merged_2.pkl'))"
   ]
  },
  {
   "cell_type": "code",
   "execution_count": null,
   "id": "b9e8a475",
   "metadata": {},
   "outputs": [],
   "source": []
  }
 ],
 "metadata": {
  "kernelspec": {
   "display_name": "Python 3 (ipykernel)",
   "language": "python",
   "name": "python3"
  },
  "language_info": {
   "codemirror_mode": {
    "name": "ipython",
    "version": 3
   },
   "file_extension": ".py",
   "mimetype": "text/x-python",
   "name": "python",
   "nbconvert_exporter": "python",
   "pygments_lexer": "ipython3",
   "version": "3.9.12"
  }
 },
 "nbformat": 4,
 "nbformat_minor": 5
}
